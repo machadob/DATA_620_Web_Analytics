{
 "cells": [
  {
   "cell_type": "code",
   "execution_count": null,
   "metadata": {
    "collapsed": false
   },
   "outputs": [],
   "source": [
    "#%matplotlib inline\n",
    "import networkx as nx\n",
    "import matplotlib.pyplot as plt\n",
    "\n",
    "def draw_graph(graph, labels=None, graph_layout='spring',\n",
    "               node_size=1600, node_color='blue', node_alpha=0.3,\n",
    "               node_text_size=12,\n",
    "               edge_color='blue', edge_alpha=0.3, edge_tickness=1,\n",
    "               edge_text_pos=0.3,\n",
    "               text_font='sans-serif'):\n",
    "\n",
    "    # create networkx graph\n",
    "    G=nx.Graph()\n",
    "\n",
    "    # add edges\n",
    "    for edge in graph:\n",
    "        G.add_edge(edge[0], edge[1])\n",
    "\n",
    "    # these are different layouts for the network you may try\n",
    "    # shell seems to work best\n",
    "    if graph_layout == 'spring':\n",
    "        graph_pos=nx.spring_layout(G)\n",
    "    elif graph_layout == 'spectral':\n",
    "        graph_pos=nx.spectral_layout(G)\n",
    "    elif graph_layout == 'random':\n",
    "        graph_pos=nx.random_layout(G)\n",
    "    else:\n",
    "        graph_pos=nx.shell_layout(G)\n",
    "\n",
    "#     nx.write_dot(G,'test.dot')\n",
    "#     nx.graphviz_layout(G,prog='dot')\n",
    "    # draw graph\n",
    "    nx.draw_networkx_nodes(G,graph_pos,node_size=node_size, \n",
    "                           alpha=node_alpha, node_color=node_color)\n",
    "    nx.draw_networkx_edges(G,graph_pos,width=edge_tickness,\n",
    "                           alpha=edge_alpha,edge_color=edge_color)\n",
    "    nx.draw_networkx_labels(G, graph_pos,font_size=node_text_size,\n",
    "                            font_family=text_font)\n",
    "\n",
    "    if labels is None:\n",
    "        labels = range(len(graph))\n",
    "\n",
    "    edge_labels = dict(zip(graph, labels))\n",
    "    nx.draw_networkx_edge_labels(G, graph_pos, edge_labels=edge_labels, \n",
    "                                 label_pos=edge_text_pos)\n",
    "\n",
    "    # show graph\n",
    "    plt.show()\n",
    "\n",
    "#graph = [(0, 1), (1, 5), (1, 7), (4, 5), (4, 8), (1, 6), (3, 7), (5, 9), (2, 4), (0, 4), (2, 5), (3, 6), (8, 9)]\n",
    "\n",
    "# graph = [(\"Andre\", \"Beverly\"), (\"Andre\", \"Carol\"), (\"Andre\", \"Fernando\"), (\"Andre\", \"Diane\"), \n",
    "#          (\"Beverly\", \"Diane\"), (\"Beverly\", \"Garth\"), (\"Beverly\", \"Ed\"), (\"Ed\", \"Garth\"), \n",
    "#          (\"Diane\", \"Fernando\"), (\"Diane\", \"Carol\"), (\"Diane\", \"Garth\"), (\"Diane\", \"Ed\"), \n",
    "#          (\"Carol\", \"Fernando\"), (\"Fernando\", \"Garth\"), (\"Fernando\", \"Heather\"), \n",
    "#          (\"Garth\", \"Heather\"), (\"Heather\", \"Ike\"), (\"Ike\", \"Jane\")\n",
    "#         ]\n",
    "\n",
    "graph = [(\"Diane\", \"Carol\"), (\"Diane\", \"Andre\"), (\"Diane\", \"Beverly\"), (\"Diane\", \"Ed\"), \n",
    "         (\"Diane\", \"Garth\"), (\"Diane\", \"Fernando\")\n",
    "         , (\"Andre\", \"Beverly\"), (\"Andre\", \"Fernando\"), (\"Andre\", \"Carol\"), \n",
    "         (\"Beverly\", \"Ed\"), (\"Beverly\", \"Garth\"), (\"Ed\", \"Garth\"), (\"Carol\", \"Fernando\"),\n",
    "         (\"Garth\", \"Fernando\"), (\"Fernando\", \"Heather\"),(\"Garth\", \"Heather\"),\n",
    "         (\"Heather\", \"Ike\"), (\"Ike\", \"Jane\")\n",
    "#          , (\"Diane\", \"Garth\"), (\"Diane\", \"Ed\"), \n",
    "#          (\"Carol\", \"Fernando\"), (\"Fernando\", \"Garth\"), (\"Fernando\", \"Heather\"), \n",
    "#          (\"Garth\", \"Heather\"), (\"Heather\", \"Ike\"), (\"Ike\", \"Jane\")\n",
    "        ]\n",
    "\n",
    "# you may name your edge labels\n",
    "labels = map(chr, range(65, 65+len(graph)))\n",
    "#draw_graph(graph, labels)\n",
    "\n",
    "# if edge labels is not specified, numeric labels (0, 1, 2...) will be used\n",
    "draw_graph(graph)"
   ]
  },
  {
   "cell_type": "code",
   "execution_count": null,
   "metadata": {
    "collapsed": true
   },
   "outputs": [],
   "source": []
  },
  {
   "cell_type": "code",
   "execution_count": null,
   "metadata": {
    "collapsed": true
   },
   "outputs": [],
   "source": []
  },
  {
   "cell_type": "code",
   "execution_count": null,
   "metadata": {
    "collapsed": true
   },
   "outputs": [],
   "source": []
  },
  {
   "cell_type": "code",
   "execution_count": null,
   "metadata": {
    "collapsed": true
   },
   "outputs": [],
   "source": []
  },
  {
   "cell_type": "code",
   "execution_count": null,
   "metadata": {
    "collapsed": true
   },
   "outputs": [],
   "source": []
  },
  {
   "cell_type": "code",
   "execution_count": null,
   "metadata": {
    "collapsed": true
   },
   "outputs": [],
   "source": []
  },
  {
   "cell_type": "code",
   "execution_count": null,
   "metadata": {
    "collapsed": true
   },
   "outputs": [],
   "source": []
  }
 ],
 "metadata": {
  "anaconda-cloud": {},
  "kernelspec": {
   "display_name": "Python [Root]",
   "language": "python",
   "name": "Python [Root]"
  },
  "language_info": {
   "codemirror_mode": {
    "name": "ipython",
    "version": 2
   },
   "file_extension": ".py",
   "mimetype": "text/x-python",
   "name": "python",
   "nbconvert_exporter": "python",
   "pygments_lexer": "ipython2",
   "version": "2.7.12"
  }
 },
 "nbformat": 4,
 "nbformat_minor": 0
}
